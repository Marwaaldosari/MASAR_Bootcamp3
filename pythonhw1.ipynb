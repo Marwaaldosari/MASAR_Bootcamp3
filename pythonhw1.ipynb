{
  "nbformat": 4,
  "nbformat_minor": 0,
  "metadata": {
    "colab": {
      "provenance": [],
      "authorship_tag": "ABX9TyOcq1EcfMmF7pVsVH/LzhUJ",
      "include_colab_link": true
    },
    "kernelspec": {
      "name": "python3",
      "display_name": "Python 3"
    },
    "language_info": {
      "name": "python"
    }
  },
  "cells": [
    {
      "cell_type": "markdown",
      "metadata": {
        "id": "view-in-github",
        "colab_type": "text"
      },
      "source": [
        "<a href=\"https://colab.research.google.com/github/Marwaaldosari/MASAR_Bootcamp3/blob/main/pythonhw1.ipynb\" target=\"_parent\"><img src=\"https://colab.research.google.com/assets/colab-badge.svg\" alt=\"Open In Colab\"/></a>"
      ]
    },
    {
      "cell_type": "code",
      "execution_count": null,
      "metadata": {
        "colab": {
          "base_uri": "https://localhost:8080/"
        },
        "id": "yIS6fNRyLRE9",
        "outputId": "88f98126-e9c8-4e1c-efba-9f130ea4bfe0"
      },
      "outputs": [
        {
          "output_type": "stream",
          "name": "stdout",
          "text": [
            "my name is marwa my age is 33 سعيدة بالانضمام الى المعسكر عازمة على التعلم والاستفادة\n"
          ]
        }
      ],
      "source": [
        "\n",
        "name='marwa'\n",
        "\n",
        "age= str(33)\n",
        "\n",
        "print('my name is '  + name +  ' my age is ' + age , 'سعيدة بالانضمام الى المعسكر عازمة على التعلم والاستفادة')"
      ]
    }
  ]
}