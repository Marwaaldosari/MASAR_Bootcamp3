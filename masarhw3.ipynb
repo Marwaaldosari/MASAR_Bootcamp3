{
  "nbformat": 4,
  "nbformat_minor": 0,
  "metadata": {
    "colab": {
      "provenance": [],
      "authorship_tag": "ABX9TyOGYuLLyeFdHdsEWuSdYBeY",
      "include_colab_link": true
    },
    "kernelspec": {
      "name": "python3",
      "display_name": "Python 3"
    },
    "language_info": {
      "name": "python"
    }
  },
  "cells": [
    {
      "cell_type": "markdown",
      "metadata": {
        "id": "view-in-github",
        "colab_type": "text"
      },
      "source": [
        "<a href=\"https://colab.research.google.com/github/Marwaaldosari/MASAR_Bootcamp3/blob/main/masarhw3.ipynb\" target=\"_parent\"><img src=\"https://colab.research.google.com/assets/colab-badge.svg\" alt=\"Open In Colab\"/></a>"
      ]
    },
    {
      "cell_type": "code",
      "execution_count": 2,
      "metadata": {
        "colab": {
          "base_uri": "https://localhost:8080/"
        },
        "id": "Pz6vKRxOnSbo",
        "outputId": "5b7afd1c-3beb-423c-d4d9-51c989e74dee"
      },
      "outputs": [
        {
          "output_type": "stream",
          "name": "stdout",
          "text": [
            "الارقام المطلوبة هي: 2 14\n",
            "الارقام المطلوبة هي: 4 12\n",
            "الارقام المطلوبة هي: 6 10\n"
          ]
        }
      ],
      "source": [
        "numbers = [2,4,6,8,10,12,14]\n",
        "target_sum = 16\n",
        "found = False\n",
        "for i in range(len(numbers)):\n",
        "    for j in range(i + 1, len(numbers)):\n",
        "      if numbers[i] + numbers[j] == target_sum:\n",
        "        print(\"الارقام المطلوبة هي:\" , numbers[i], numbers[j])\n",
        "        found = True\n",
        "        break\n",
        "        if found:\n",
        "          break"
      ]
    }
  ]
}